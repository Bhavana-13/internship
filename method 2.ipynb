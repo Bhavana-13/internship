{
  "nbformat": 4,
  "nbformat_minor": 0,
  "metadata": {
    "colab": {
      "name": "Untitled6.ipynb",
      "provenance": [],
      "collapsed_sections": []
    },
    "kernelspec": {
      "name": "python3",
      "display_name": "Python 3"
    }
  },
  "cells": [
    {
      "cell_type": "code",
      "metadata": {
        "id": "5TWvZk3GNVDh",
        "colab_type": "code",
        "colab": {}
      },
      "source": [
        "import pandas as pd\n",
        "import io\n",
        "import string\n",
        "import re\n",
        "import numpy as np\n",
        "import nltk\n",
        "from nltk.corpus import stopwords\n",
        "from  nltk.stem import SnowballStemmer\n",
        "import requests\n",
        "import spacy\n",
        "from spacy import displacy\n",
        "nlp = spacy.load('en_core_web_sm')\n",
        "\n",
        "from spacy.matcher import Matcher \n",
        "from spacy.tokens import Span \n",
        "\n",
        "import networkx as nx\n",
        "\n",
        "import matplotlib.pyplot as plt\n",
        "from tqdm import tqdm\n",
        "\n",
        "pd.set_option('display.max_colwidth', 200)\n",
        "%matplotlib inline"
      ],
      "execution_count": 48,
      "outputs": []
    },
    {
      "cell_type": "code",
      "metadata": {
        "id": "g5EDIgHUQJg5",
        "colab_type": "code",
        "colab": {}
      },
      "source": [
        "path = \"/content/f1.csv\"\n",
        "df = pd.read_csv(path)"
      ],
      "execution_count": 46,
      "outputs": []
    },
    {
      "cell_type": "code",
      "metadata": {
        "id": "Dsttf70l1ugs",
        "colab_type": "code",
        "colab": {}
      },
      "source": [
        "df.drop(['Opening Text','Source','Subregion','Language','Desktop Reach','Mobile Reach','Twitter Social Echo','Facebook Social Echo','Reddit Social Echo','National Viewership','Engagement','Keywords','Tweet Id','Twitter Id','Twitter Client','Document Tags','URL'], axis='columns', inplace=True)"
      ],
      "execution_count": 47,
      "outputs": []
    },
    {
      "cell_type": "code",
      "metadata": {
        "id": "7QGYWdW22Iwm",
        "colab_type": "code",
        "colab": {
          "base_uri": "https://localhost:8080/",
          "height": 383
        },
        "outputId": "303853a7-a4b6-4356-d7a1-6253f7426103"
      },
      "source": [
        "df.head(3)"
      ],
      "execution_count": 12,
      "outputs": [
        {
          "output_type": "execute_result",
          "data": {
            "text/html": [
              "<div>\n",
              "<style scoped>\n",
              "    .dataframe tbody tr th:only-of-type {\n",
              "        vertical-align: middle;\n",
              "    }\n",
              "\n",
              "    .dataframe tbody tr th {\n",
              "        vertical-align: top;\n",
              "    }\n",
              "\n",
              "    .dataframe thead th {\n",
              "        text-align: right;\n",
              "    }\n",
              "</style>\n",
              "<table border=\"1\" class=\"dataframe\">\n",
              "  <thead>\n",
              "    <tr style=\"text-align: right;\">\n",
              "      <th></th>\n",
              "      <th>Hit Sentence</th>\n",
              "      <th>Influencer</th>\n",
              "      <th>Country</th>\n",
              "      <th>Reach</th>\n",
              "      <th>AVE</th>\n",
              "      <th>Sentiment</th>\n",
              "      <th>Key Phrases</th>\n",
              "      <th>Input Name</th>\n",
              "      <th>Twitter Authority</th>\n",
              "      <th>Twitter Screen Name</th>\n",
              "      <th>Twitter User Profile Url</th>\n",
              "      <th>Twitter Bio</th>\n",
              "      <th>Twitter Followers</th>\n",
              "      <th>Twitter Following</th>\n",
              "      <th>Alternate Date Format</th>\n",
              "      <th>Time</th>\n",
              "      <th>State</th>\n",
              "      <th>City</th>\n",
              "    </tr>\n",
              "  </thead>\n",
              "  <tbody>\n",
              "    <tr>\n",
              "      <th>0</th>\n",
              "      <td>QT @NewsAtNESA: RT @smitchellmlc: Planning beg...</td>\n",
              "      <td>@scottsdavidson</td>\n",
              "      <td>Australia</td>\n",
              "      <td>2364</td>\n",
              "      <td>21.87</td>\n",
              "      <td>Neutral</td>\n",
              "      <td>NESA guidelines,disruption,plans,schools,schoo...</td>\n",
              "      <td>Adhoc Search Export</td>\n",
              "      <td>6</td>\n",
              "      <td>Scott s Davidson</td>\n",
              "      <td>https://twitter.com/ScottsDavidson</td>\n",
              "      <td>Director Strategic Liaison Office of the NSW M...</td>\n",
              "      <td>2364</td>\n",
              "      <td>1251</td>\n",
              "      <td>15-Sep-20</td>\n",
              "      <td>5:04 PM</td>\n",
              "      <td>New South Wales</td>\n",
              "      <td>NaN</td>\n",
              "    </tr>\n",
              "    <tr>\n",
              "      <th>1</th>\n",
              "      <td>QT @FergalBowers: RT @Antcon7062: Great work p...</td>\n",
              "      <td>@tiernster</td>\n",
              "      <td>Australia</td>\n",
              "      <td>255</td>\n",
              "      <td>2.36</td>\n",
              "      <td>Positive</td>\n",
              "      <td>Great work principals,teachers, parents and kids</td>\n",
              "      <td>Adhoc Search Export</td>\n",
              "      <td>4</td>\n",
              "      <td>Ciaran Tiernan</td>\n",
              "      <td>https://twitter.com/tiernster</td>\n",
              "      <td>Software developer. \\nWeakness for Clare hurli...</td>\n",
              "      <td>255</td>\n",
              "      <td>582</td>\n",
              "      <td>10-Sep-20</td>\n",
              "      <td>7:05 AM</td>\n",
              "      <td>South Australia</td>\n",
              "      <td>Clare</td>\n",
              "    </tr>\n",
              "    <tr>\n",
              "      <th>2</th>\n",
              "      <td>Principals frustrated as more COVID cases conf...</td>\n",
              "      <td>@duncanmacmartin</td>\n",
              "      <td>Australia</td>\n",
              "      <td>4687</td>\n",
              "      <td>43.35</td>\n",
              "      <td>Neutral</td>\n",
              "      <td>NaN</td>\n",
              "      <td>Adhoc Search Export</td>\n",
              "      <td>7</td>\n",
              "      <td>💧Duncan MacMartin⏳🇵🇸</td>\n",
              "      <td>http://www.twitter.com/duncanmacmartin</td>\n",
              "      <td>Researcher in cognitive/empathetic development...</td>\n",
              "      <td>4687</td>\n",
              "      <td>4458</td>\n",
              "      <td>10-Sep-20</td>\n",
              "      <td>1:47 AM</td>\n",
              "      <td>Victoria</td>\n",
              "      <td>Melbourne</td>\n",
              "    </tr>\n",
              "  </tbody>\n",
              "</table>\n",
              "</div>"
            ],
            "text/plain": [
              "                                        Hit Sentence  ...       City\n",
              "0  QT @NewsAtNESA: RT @smitchellmlc: Planning beg...  ...        NaN\n",
              "1  QT @FergalBowers: RT @Antcon7062: Great work p...  ...      Clare\n",
              "2  Principals frustrated as more COVID cases conf...  ...  Melbourne\n",
              "\n",
              "[3 rows x 18 columns]"
            ]
          },
          "metadata": {
            "tags": []
          },
          "execution_count": 12
        }
      ]
    },
    {
      "cell_type": "code",
      "metadata": {
        "id": "M4nodtW_RcAl",
        "colab_type": "code",
        "colab": {
          "base_uri": "https://localhost:8080/",
          "height": 68
        },
        "outputId": "2021a578-9f08-4487-ed04-2971b9bf0515"
      },
      "source": [
        "nltk.download('stopwords')"
      ],
      "execution_count": 49,
      "outputs": [
        {
          "output_type": "stream",
          "text": [
            "[nltk_data] Downloading package stopwords to /root/nltk_data...\n",
            "[nltk_data]   Package stopwords is already up-to-date!\n"
          ],
          "name": "stdout"
        },
        {
          "output_type": "execute_result",
          "data": {
            "text/plain": [
              "True"
            ]
          },
          "metadata": {
            "tags": []
          },
          "execution_count": 49
        }
      ]
    },
    {
      "cell_type": "code",
      "metadata": {
        "id": "ivNW4S4Pkfxw",
        "colab_type": "code",
        "colab": {
          "base_uri": "https://localhost:8080/",
          "height": 86
        },
        "outputId": "0053e686-b04d-4e49-bdcc-a36e8f24fcc6"
      },
      "source": [
        "df.loc[0,'Hit Sentence']"
      ],
      "execution_count": 50,
      "outputs": [
        {
          "output_type": "execute_result",
          "data": {
            "application/vnd.google.colaboratory.intrinsic+json": {
              "type": "string"
            },
            "text/plain": [
              "'QT @NewsAtNESA: RT @smitchellmlc: Planning begins for schools to make sure HSC exams go ahead with the least amount of disruption possible. All schools will have NESA guidelines to follow and we will be supporting our Principals to design and implement their plans. ; What’s your school’s COVID-19 contingency plan? Guidelines to help schools implement health and safety measures and plan for contingencies have been issued. It’s all about making sure students can sit their HSC without disruption #2020HSC #covidsafeHSC https://t.co/HwB44Iu2sR https://t.co/Q7F9aHtyt5'"
            ]
          },
          "metadata": {
            "tags": []
          },
          "execution_count": 50
        }
      ]
    },
    {
      "cell_type": "code",
      "metadata": {
        "id": "lukkM5DuRvCp",
        "colab_type": "code",
        "colab": {}
      },
      "source": [
        "stop_words = stopwords.words(\"english\")\n",
        "stemmer = SnowballStemmer(\"english\")"
      ],
      "execution_count": 51,
      "outputs": []
    },
    {
      "cell_type": "code",
      "metadata": {
        "id": "e4NxM-HDEcrU",
        "colab_type": "code",
        "colab": {
          "base_uri": "https://localhost:8080/",
          "height": 86
        },
        "outputId": "e82b6006-8f06-4ed5-bf1c-e390a16b3297"
      },
      "source": [
        "def clean_text(text):\n",
        "    text = re.sub('\\[.*?\\]', '', text)\n",
        "    text = re.sub('https?://\\S+|www\\.\\S+', '', text)\n",
        "    text = re.sub('<.*?>+', '', text)\n",
        "    text = re.sub('[%s]' % re.escape(string.punctuation), '', text)\n",
        "    text = re.sub('\\n', '', text)\n",
        "    text = re.sub('\\w*\\d\\w*', '', text)\n",
        "    return text\n",
        "df['Hit Sentence'] = df['Hit Sentence'].apply(lambda x:clean_text(x))\n",
        "df.loc[0,'Hit Sentence']\n"
      ],
      "execution_count": 52,
      "outputs": [
        {
          "output_type": "execute_result",
          "data": {
            "application/vnd.google.colaboratory.intrinsic+json": {
              "type": "string"
            },
            "text/plain": [
              "'QT NewsAtNESA RT smitchellmlc Planning begins for schools to make sure HSC exams go ahead with the least amount of disruption possible All schools will have NESA guidelines to follow and we will be supporting our Principals to design and implement their plans  What’s your school’s  contingency plan Guidelines to help schools implement health and safety measures and plan for contingencies have been issued It’s all about making sure students can sit their HSC without disruption  covidsafeHSC  '"
            ]
          },
          "metadata": {
            "tags": []
          },
          "execution_count": 52
        }
      ]
    },
    {
      "cell_type": "code",
      "metadata": {
        "id": "cie0YvNxmGzP",
        "colab_type": "code",
        "colab": {}
      },
      "source": [
        "def get_entities(sent):\n",
        " \n",
        "  ent1 = \"\"\n",
        "  ent2 = \"\"\n",
        "\n",
        "  prv_tok_dep = \"\"    # dependency tag of previous token in the sentence\n",
        "  prv_tok_text = \"\"   # previous token in the sentence\n",
        "\n",
        "  prefix = \"\"\n",
        "  modifier = \"\"\n",
        "\n",
        "  \n",
        "  \n",
        "  for tok in nlp(sent):\n",
        "    \n",
        "    # if token is a punctuation mark then move on to the next token\n",
        "    if tok.dep_ != \"punct\":\n",
        "      # check: token is a compound word or not\n",
        "      if tok.dep_ == \"compound\":\n",
        "        prefix = tok.text\n",
        "        # if the previous word was also a 'compound' then add the current word to it\n",
        "        if prv_tok_dep == \"compound\":\n",
        "          prefix = prv_tok_text + \" \"+ tok.text\n",
        "      \n",
        "      # check: token is a modifier or not\n",
        "      if tok.dep_.endswith(\"mod\") == True:\n",
        "        modifier = tok.text\n",
        "        # if the previous word was also a 'compound' then add the current word to it\n",
        "        if prv_tok_dep == \"compound\":\n",
        "          modifier = prv_tok_text + \" \"+ tok.text\n",
        "      \n",
        "      \n",
        "      if tok.dep_.find(\"subj\") == True:\n",
        "        ent1 = modifier +\" \"+ prefix + \" \"+ tok.text\n",
        "        prefix = \"\"\n",
        "        modifier = \"\"\n",
        "        prv_tok_dep = \"\"\n",
        "        prv_tok_text = \"\"      \n",
        "\n",
        "      \n",
        "      if tok.dep_.find(\"obj\") == True:\n",
        "        ent2 = modifier +\" \"+ prefix +\" \"+ tok.text\n",
        "        \n",
        "      \n",
        "      prv_tok_dep = tok.dep_\n",
        "      prv_tok_text = tok.text\n",
        "  \n",
        "  return [ent1.strip(), ent2.strip()]"
      ],
      "execution_count": 53,
      "outputs": []
    },
    {
      "cell_type": "code",
      "metadata": {
        "id": "EJckFakjnZuZ",
        "colab_type": "code",
        "colab": {
          "base_uri": "https://localhost:8080/",
          "height": 34
        },
        "outputId": "60a18e59-2376-490f-d438-46199022b1b1"
      },
      "source": [
        "get_entities(\"qt newsatnesa rt smitchellmlc planning begins schools make sure hsc exams go ahead least amount disruption possible schools nesa guidelines follow supporting principals design implement plans school covid 19 contingency plan guidelines help schools implement health safety measures plan contingencies issued making sure students sit hsc without disruption 2020hsc covidsafehsc\")"
      ],
      "execution_count": 54,
      "outputs": [
        {
          "output_type": "execute_result",
          "data": {
            "text/plain": [
              "['measures plan students', 'disruption']"
            ]
          },
          "metadata": {
            "tags": []
          },
          "execution_count": 54
        }
      ]
    },
    {
      "cell_type": "code",
      "metadata": {
        "id": "c88p1LFhpgOm",
        "colab_type": "code",
        "colab": {
          "base_uri": "https://localhost:8080/",
          "height": 34
        },
        "outputId": "1b0e3d8a-9ec1-4b99-8a45-16dcbf027ae0"
      },
      "source": [
        "entity_pairs = []\n",
        "\n",
        "for i in tqdm(df[\"Hit Sentence\"]):\n",
        "  entity_pairs.append(get_entities(i))"
      ],
      "execution_count": 55,
      "outputs": [
        {
          "output_type": "stream",
          "text": [
            "100%|██████████| 25/25 [00:00<00:00, 33.50it/s]\n"
          ],
          "name": "stderr"
        }
      ]
    },
    {
      "cell_type": "code",
      "metadata": {
        "id": "jcBFLh0D00hN",
        "colab_type": "code",
        "colab": {
          "base_uri": "https://localhost:8080/",
          "height": 272
        },
        "outputId": "9a08a1be-73cf-439f-cba7-d6c08fe3a14a"
      },
      "source": [
        "entity_pairs[10:]"
      ],
      "execution_count": 42,
      "outputs": [
        {
          "output_type": "execute_result",
          "data": {
            "text/plain": [
              "[['measures plan students', 'disruption'],\n",
              " ['measures plan students', 'disruption'],\n",
              " ['presiding leadership officers', 'readiness exams pandemic'],\n",
              " ['measures plan students', 'disruption'],\n",
              " ['presiding leadership officers', 'readiness exams pandemic'],\n",
              " ['measures plan students', 'disruption'],\n",
              " ['presiding leadership officers', 'readiness exams pandemic'],\n",
              " ['presiding leadership officers', 'readiness exams pandemic'],\n",
              " ['presiding leadership officers', 'readiness exams pandemic'],\n",
              " ['presiding leadership officers', 'readiness exams pandemic'],\n",
              " ['covid  cases', 'calgary schools calgary herald'],\n",
              " ['covid19 schools cork case', 'eglantine southside cork city'],\n",
              " ['dedicated teachers principals', 'hungry  victoria'],\n",
              " ['principals', 'hungry  victoria'],\n",
              " ['parents', 'skinnergj']]"
            ]
          },
          "metadata": {
            "tags": []
          },
          "execution_count": 42
        }
      ]
    }
  ]
}